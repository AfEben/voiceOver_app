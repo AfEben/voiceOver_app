{
 "cells": [
  {
   "cell_type": "code",
   "execution_count": 1,
   "id": "d45f75b0-bc09-4b1f-9236-46a97c5471be",
   "metadata": {},
   "outputs": [
    {
     "name": "stderr",
     "output_type": "stream",
     "text": [
      "C:\\Users\\Hp\\Desktop\\Cours\\repos_githubs\\voiceOver_app\\venv\\lib\\site-packages\\tqdm\\auto.py:21: TqdmWarning: IProgress not found. Please update jupyter and ipywidgets. See https://ipywidgets.readthedocs.io/en/stable/user_install.html\n",
      "  from .autonotebook import tqdm as notebook_tqdm\n"
     ]
    }
   ],
   "source": [
    "from faster_whisper import WhisperModel"
   ]
  },
  {
   "cell_type": "code",
   "execution_count": 3,
   "id": "ac4799b3-744e-4966-8bfe-aa2012481490",
   "metadata": {},
   "outputs": [
    {
     "name": "stdout",
     "output_type": "stream",
     "text": [
      "Detected language 'en' with probability 0.860063\n"
     ]
    }
   ],
   "source": [
    "model_size = \"large-v3\"\n",
    "model = WhisperModel(model_size, device=\"cpu\", compute_type=\"int8\")\n",
    "\n",
    "segments, info = model.transcribe(\"../audio.mp3\", beam_size=5)\n",
    "\n",
    "print(\"Detected language '%s' with probability %f\" % (info.language, info.language_probability))"
   ]
  },
  {
   "cell_type": "code",
   "execution_count": 4,
   "id": "017bcfd7-ecd9-4701-bbdf-d0ae14c00f92",
   "metadata": {},
   "outputs": [
    {
     "data": {
      "text/plain": [
       "[Segment(id=1, seek=0, start=0.72, end=11.36, text=' okay this is supposed to be a test audio test let us see how my model to transcribe my speech', tokens=[50401, 1392, 341, 307, 3442, 281, 312, 257, 1500, 6278, 1500, 718, 505, 536, 577, 452, 2316, 281, 1145, 8056, 452, 6218, 50933], avg_logprob=-0.17530460962477853, compression_ratio=1.3333333333333333, no_speech_prob=0.04572983831167221, words=None, temperature=0.0),\n",
       " Segment(id=2, seek=0, start=11.36, end=15.92, text=' into text will perform thank you very much', tokens=[50933, 666, 2487, 486, 2042, 1309, 291, 588, 709, 51161], avg_logprob=-0.17530460962477853, compression_ratio=1.3333333333333333, no_speech_prob=0.04572983831167221, words=None, temperature=0.0)]"
      ]
     },
     "execution_count": 4,
     "metadata": {},
     "output_type": "execute_result"
    }
   ],
   "source": [
    "segments = list(segments) \n",
    "segments"
   ]
  },
  {
   "cell_type": "code",
   "execution_count": 8,
   "id": "cd8ec7a4-624f-45fc-8992-8f7f0308234a",
   "metadata": {},
   "outputs": [
    {
     "name": "stdout",
     "output_type": "stream",
     "text": [
      "[0.72s -> 11.36s]  okay this is supposed to be a test audio test let us see how my model to transcribe my speech\n",
      "[11.36s -> 15.92s]  into text will perform thank you very much\n",
      "\n"
     ]
    }
   ],
   "source": [
    "doc = \"\"\"\"\"\"\n",
    "for segment in segments:\n",
    "    doc = doc + \"[%.2fs -> %.2fs] %s\" % (segment.start, segment.end, segment.text) + '\\n'\n",
    "\n",
    "print(doc)"
   ]
  },
  {
   "cell_type": "code",
   "execution_count": 11,
   "id": "8e83df72-6013-45d8-9cef-ceaf15fe8840",
   "metadata": {},
   "outputs": [],
   "source": [
    "from moviepy import VideoFileClip, AudioFileClip\n",
    "#import moviepy"
   ]
  },
  {
   "cell_type": "code",
   "execution_count": 13,
   "id": "45783317-7979-47a0-a04a-ab3f7ec1ad89",
   "metadata": {},
   "outputs": [],
   "source": [
    "\n",
    "DEFAULT_SR = 16000\n",
    "TARGET_AUDIO_SR = 22050  # XTTS works nicely here\n",
    "MAX_REF_SECONDS = 60      # reference voice audio total for cloning\n",
    "MIN_REF_SECONDS = 15\n"
   ]
  },
  {
   "cell_type": "code",
   "execution_count": 14,
   "id": "68e35c9b-b921-4507-944b-e65672895220",
   "metadata": {},
   "outputs": [],
   "source": [
    "def extract_audio(video_path: str, out_wav: str, sr: int = DEFAULT_SR) -> str:\n",
    "    clip = VideoFileClip(video_path)\n",
    "    audio = clip.audio\n",
    "    if audio is None:\n",
    "        raise RuntimeError(\"No audio track found in video.\")\n",
    "    audio.write_audiofile(out_wav, fps=sr, codec=\"pcm_s16le\", verbose=True, logger=None)\n",
    "    clip.close()\n",
    "    return out_wav\n"
   ]
  },
  {
   "cell_type": "code",
   "execution_count": 16,
   "id": "523598dc-ffdc-4ddc-ac5e-5c98810aa87a",
   "metadata": {},
   "outputs": [],
   "source": [
    "def download_youtube(url: str, tmpdir: str) -> [str]:\n",
    "    try:\n",
    "        import yt_dlp\n",
    "        outtmpl = str(Path(tmpdir) / f\"yt_{uuid.uuid4().hex}.%(ext)s\")\n",
    "        ydl_opts = {\n",
    "            \"outtmpl\": outtmpl,\n",
    "            \"format\": \"mp4/bestaudio/best\",\n",
    "            \"noplaylist\": True,\n",
    "            \"quiet\": True,\n",
    "            \"merge_output_format\": \"mp4\",\n",
    "        }\n",
    "        with yt_dlp.YoutubeDL(ydl_opts) as ydl:\n",
    "            info = ydl.extract_info(url, download=True)\n",
    "            filepath = ydl.prepare_filename(info)\n",
    "            # Ensure .mp4 extension after merge\n",
    "            if not filepath.endswith(\".mp4\"):\n",
    "                filepath = Path(filepath).with_suffix(\".mp4\")\n",
    "            return str(filepath)\n",
    "    except Exception as e:\n",
    "        raise RuntimeError(f\"YouTube download failed: {e}\")\n",
    "        return None\n"
   ]
  },
  {
   "cell_type": "code",
   "execution_count": 17,
   "id": "d025306c-54b5-4568-b75b-e32c1f5f2252",
   "metadata": {},
   "outputs": [
    {
     "ename": "NameError",
     "evalue": "name 'st' is not defined",
     "output_type": "error",
     "traceback": [
      "\u001b[1;31m---------------------------------------------------------------------------\u001b[0m",
      "\u001b[1;31mModuleNotFoundError\u001b[0m                       Traceback (most recent call last)",
      "Cell \u001b[1;32mIn[16], line 3\u001b[0m, in \u001b[0;36mdownload_youtube\u001b[1;34m(url, tmpdir)\u001b[0m\n\u001b[0;32m      2\u001b[0m \u001b[38;5;28;01mtry\u001b[39;00m:\n\u001b[1;32m----> 3\u001b[0m     \u001b[38;5;28;01mimport\u001b[39;00m\u001b[38;5;250m \u001b[39m\u001b[38;5;21;01myt_dlp\u001b[39;00m\n\u001b[0;32m      4\u001b[0m     outtmpl \u001b[38;5;241m=\u001b[39m \u001b[38;5;28mstr\u001b[39m(Path(tmpdir) \u001b[38;5;241m/\u001b[39m \u001b[38;5;124mf\u001b[39m\u001b[38;5;124m\"\u001b[39m\u001b[38;5;124myt_\u001b[39m\u001b[38;5;132;01m{\u001b[39;00muuid\u001b[38;5;241m.\u001b[39muuid4()\u001b[38;5;241m.\u001b[39mhex\u001b[38;5;132;01m}\u001b[39;00m\u001b[38;5;124m.%(ext)s\u001b[39m\u001b[38;5;124m\"\u001b[39m)\n",
      "\u001b[1;31mModuleNotFoundError\u001b[0m: No module named 'yt_dlp'",
      "\nDuring handling of the above exception, another exception occurred:\n",
      "\u001b[1;31mNameError\u001b[0m                                 Traceback (most recent call last)",
      "Cell \u001b[1;32mIn[17], line 1\u001b[0m\n\u001b[1;32m----> 1\u001b[0m \u001b[43mdownload_youtube\u001b[49m\u001b[43m(\u001b[49m\u001b[43murl\u001b[49m\u001b[38;5;241;43m=\u001b[39;49m\u001b[38;5;124;43m'\u001b[39;49m\u001b[38;5;124;43mhttps://www.youtube.com/watch?v=PphHVMtWB6E\u001b[39;49m\u001b[38;5;124;43m'\u001b[39;49m\u001b[43m,\u001b[49m\u001b[43m \u001b[49m\u001b[43mtmpdir\u001b[49m\u001b[38;5;241;43m=\u001b[39;49m\u001b[38;5;124;43mr\u001b[39;49m\u001b[38;5;124;43m'\u001b[39;49m\u001b[38;5;124;43mC:\u001b[39;49m\u001b[38;5;124;43m\\\u001b[39;49m\u001b[38;5;124;43mUsers\u001b[39;49m\u001b[38;5;124;43m\\\u001b[39;49m\u001b[38;5;124;43mHp\u001b[39;49m\u001b[38;5;124;43m\\\u001b[39;49m\u001b[38;5;124;43mDesktop\u001b[39;49m\u001b[38;5;124;43m\\\u001b[39;49m\u001b[38;5;124;43mCours\u001b[39;49m\u001b[38;5;124;43m\\\u001b[39;49m\u001b[38;5;124;43mrepos_githubs\u001b[39;49m\u001b[38;5;124;43m\\\u001b[39;49m\u001b[38;5;124;43mvoiceOver_app\u001b[39;49m\u001b[38;5;124;43m'\u001b[39;49m\u001b[43m)\u001b[49m\n",
      "Cell \u001b[1;32mIn[16], line 20\u001b[0m, in \u001b[0;36mdownload_youtube\u001b[1;34m(url, tmpdir)\u001b[0m\n\u001b[0;32m     18\u001b[0m         \u001b[38;5;28;01mreturn\u001b[39;00m \u001b[38;5;28mstr\u001b[39m(filepath)\n\u001b[0;32m     19\u001b[0m \u001b[38;5;28;01mexcept\u001b[39;00m \u001b[38;5;167;01mException\u001b[39;00m \u001b[38;5;28;01mas\u001b[39;00m e:\n\u001b[1;32m---> 20\u001b[0m     \u001b[43mst\u001b[49m\u001b[38;5;241m.\u001b[39merror(\u001b[38;5;124mf\u001b[39m\u001b[38;5;124m\"\u001b[39m\u001b[38;5;124mYouTube download failed: \u001b[39m\u001b[38;5;132;01m{\u001b[39;00me\u001b[38;5;132;01m}\u001b[39;00m\u001b[38;5;124m\"\u001b[39m)\n\u001b[0;32m     21\u001b[0m     \u001b[38;5;28;01mreturn\u001b[39;00m \u001b[38;5;28;01mNone\u001b[39;00m\n",
      "\u001b[1;31mNameError\u001b[0m: name 'st' is not defined"
     ]
    }
   ],
   "source": [
    "download_youtube(url='https://www.youtube.com/watch?v=PphHVMtWB6E', \n",
    "                 tmpdir=r'C:\\Users\\Hp\\Desktop\\Cours\\repos_githubs\\voiceOver_app')"
   ]
  },
  {
   "cell_type": "code",
   "execution_count": null,
   "id": "cb533d3a-7c49-4e59-80d8-48b598109e3e",
   "metadata": {},
   "outputs": [],
   "source": []
  }
 ],
 "metadata": {
  "kernelspec": {
   "display_name": "Python 3 (ipykernel)",
   "language": "python",
   "name": "python3"
  },
  "language_info": {
   "codemirror_mode": {
    "name": "ipython",
    "version": 3
   },
   "file_extension": ".py",
   "mimetype": "text/x-python",
   "name": "python",
   "nbconvert_exporter": "python",
   "pygments_lexer": "ipython3",
   "version": "3.10.4"
  }
 },
 "nbformat": 4,
 "nbformat_minor": 5
}
